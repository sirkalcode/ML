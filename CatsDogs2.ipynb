{
 "cells": [
  {
   "cell_type": "code",
   "execution_count": 1,
   "metadata": {},
   "outputs": [
    {
     "name": "stderr",
     "output_type": "stream",
     "text": [
      "Using TensorFlow backend.\n"
     ]
    }
   ],
   "source": [
    "%matplotlib inline\n",
    "from __future__ import division, print_function\n",
    "import os, sys, json\n",
    "from glob import glob\n",
    "import numpy as np\n",
    "import scipy\n",
    "from sklearn.preprocessing import OneHotEncoder\n",
    "from sklearn.metrics import confusion_matrix\n",
    "np.set_printoptions(precision=4, linewidth=100)\n",
    "from matplotlib import pyplot as plt\n",
    "import utils; reload(utils)\n",
    "from utils import plots, get_batches, plot_confusion_matrix, get_data, load_array, save_array,split_at, copy_weights\n",
    "from numpy.random import random, permutation\n",
    "from scipy import misc, ndimage\n",
    "from scipy.ndimage.interpolation import zoom\n",
    "\n",
    "import keras\n",
    "from keras import backend as K\n",
    "from keras.utils.data_utils import get_file\n",
    "from keras.models import Sequential\n",
    "from keras.layers import Input\n",
    "from keras.layers.core import Flatten, Dense, Dropout, Lambda\n",
    "from keras.layers.convolutional import Convolution2D, MaxPooling2D, ZeroPadding2D\n",
    "from keras.optimizers import Adam\n",
    "from keras.preprocessing import image\n",
    "from keras.layers.normalization import BatchNormalization\n",
    "\n",
    "import vgg16; reload(vgg16)\n",
    "from vgg16 import Vgg16"
   ]
  },
  {
   "cell_type": "code",
   "execution_count": 2,
   "metadata": {
    "collapsed": true
   },
   "outputs": [],
   "source": [
    "DATA_HOME_DIR = os.getcwd() + '/data'\n",
    "train_path = DATA_HOME_DIR + '/redux/sample/train/'\n",
    "valid_path = DATA_HOME_DIR + '/redux/sample/valid/'\n",
    "test_path  = DATA_HOME_DIR + '/redux/sample/test/'\n",
    "results_path = DATA_HOME_DIR + '/redux/sample/results/'\n",
    "\n",
    "models_path = DATA_HOME_DIR + '/redux/sample/models/'\n",
    "\n",
    "if not os.path.exists(models_path): os.mkdir(models_path)\n",
    "if not os.path.exists(results_path): os.mkdir(results_path)"
   ]
  },
  {
   "cell_type": "code",
   "execution_count": 3,
   "metadata": {},
   "outputs": [
    {
     "name": "stdout",
     "output_type": "stream",
     "text": [
      "Found 200 images belonging to 2 classes.\n",
      "Found 100 images belonging to 2 classes.\n"
     ]
    }
   ],
   "source": [
    "batch_size = 64\n",
    "train_batches = get_batches(train_path, shuffle=False, batch_size = batch_size)\n",
    "valid_batches = get_batches(valid_path, shuffle=False, batch_size = batch_size)"
   ]
  },
  {
   "cell_type": "code",
   "execution_count": 4,
   "metadata": {
    "collapsed": true
   },
   "outputs": [],
   "source": [
    "def onehot(x): return np.array(OneHotEncoder().fit_transform(x.reshape(-1,1)).todense())"
   ]
  },
  {
   "cell_type": "code",
   "execution_count": 5,
   "metadata": {
    "collapsed": true
   },
   "outputs": [],
   "source": [
    "train_classes = train_batches.classes\n",
    "valid_classes = valid_batches.classes\n",
    "train_labels = onehot(train_classes)\n",
    "valid_labels = onehot(valid_classes)"
   ]
  },
  {
   "cell_type": "code",
   "execution_count": 6,
   "metadata": {
    "collapsed": true
   },
   "outputs": [],
   "source": [
    "model =  Vgg16().model\n",
    "layers = model.layers\n",
    "last_conv_idx = [index for index,layer in enumerate(layers)\n",
    "                    if type(layer) is Convolution2D][-1]\n",
    "conv_layers = layers[:last_conv_idx+1]\n",
    "conv_models =  Sequential(conv_layers)\n",
    "fc_layers = layers[last_conv_idx + 1:]"
   ]
  },
  {
   "cell_type": "code",
   "execution_count": null,
   "metadata": {
    "collapsed": true
   },
   "outputs": [],
   "source": [
    "train_features = conv_models.predict_generator(train_batches, train_batches.nb_sample)\n",
    "valid_features = conv_models.predict_generator(valid_batches, valid_batches.nb_sample)"
   ]
  },
  {
   "cell_type": "code",
   "execution_count": null,
   "metadata": {
    "collapsed": true
   },
   "outputs": [],
   "source": [
    "save_array(models_path + 'train_convlayer_features.bc', train_features)\n",
    "save_array(models_path + 'valid_convlayer_features.bc', valid_features)\n",
    "train_features = load_array(models_path + 'train_convlayer_features.bc')\n",
    "valid_features = load_array(models_path + 'valid_convlayer_features.bc')"
   ]
  },
  {
   "cell_type": "code",
   "execution_count": null,
   "metadata": {
    "collapsed": true
   },
   "outputs": [],
   "source": [
    "train_data = get_data(train_path)\n",
    "valid_data = get_data(valid_path)\n",
    "save_array(models_path + 'train_data.bc', train_data)\n",
    "save_array(models_path + 'valid_data.bc', valid_data)"
   ]
  },
  {
   "cell_type": "code",
   "execution_count": null,
   "metadata": {
    "collapsed": true
   },
   "outputs": [],
   "source": [
    "train_data = load_array(models_path + 'train_data.bc')\n",
    "valid_data = load_array(models_path + 'valid_data.bc')"
   ]
  },
  {
   "cell_type": "code",
   "execution_count": null,
   "metadata": {
    "collapsed": true
   },
   "outputs": [],
   "source": [
    "model.pop()\n",
    "model.pop()\n",
    "last_layer_train_features = model.predict_generator(train_batches, train_batches.nb_sample)\n",
    "last_layer_valid_features = model.predict_generator(valid_batches, valid_batches.nb_sample)\n",
    "save_array(models_path + 'train_lastlayer_features.bc', last_layer_train_features)\n",
    "save_array(models_path + 'valid_lastlayer_features.bc', last_layer_valid_features)"
   ]
  },
  {
   "cell_type": "code",
   "execution_count": null,
   "metadata": {
    "collapsed": true
   },
   "outputs": [],
   "source": [
    "last_layer_train_features = load_array(models_path + 'train_lastlayer_features.bc')\n",
    "last_layer_valid_features = load_array(models_path + 'valid_lastlayer_features.bc')"
   ]
  },
  {
   "cell_type": "code",
   "execution_count": null,
   "metadata": {
    "collapsed": true
   },
   "outputs": [],
   "source": [
    "test_data = get_data(test_path)\n",
    "save_array(models_path + 'test_data.bc', test_data)\n",
    "test_data = load_array(models_path + 'test_data.bc')"
   ]
  },
  {
   "cell_type": "code",
   "execution_count": null,
   "metadata": {
    "collapsed": true
   },
   "outputs": [],
   "source": [
    "def get_conv_model(model):\n",
    "    layers = model.layers\n",
    "    last_conv_idx = [index for index, layer in enumerate(layers)\n",
    "                        if type(layer) is Convolution2D][-1]\n",
    "    conv_layers = layers[:last_conv_idx+1]\n",
    "    conv_model = Sequential(conv_layers)\n",
    "    fc_layers = layers[last_conv_idx+1:]\n",
    "    return conv_model, fc_layers, last_conv_idx"
   ]
  },
  {
   "cell_type": "code",
   "execution_count": null,
   "metadata": {
    "collapsed": true
   },
   "outputs": [],
   "source": [
    "def get_fc_layers(p, in_shape):\n",
    "    return [\n",
    "        MaxPooling2D(input_shape=in_shape),\n",
    "        Flatten(),\n",
    "        Dense(4096, activation='relu'),\n",
    "        BatchNormalization(),\n",
    "        Dropout(p),\n",
    "        Dense(4096, activation='relu'),\n",
    "        BatchNormalization(),\n",
    "        Dropout(p),\n",
    "        Dense(2, activation='softmax')\n",
    "    ]"
   ]
  },
  {
   "cell_type": "code",
   "execution_count": null,
   "metadata": {
    "collapsed": true
   },
   "outputs": [],
   "source": [
    "def get_lastlayer_layers():\n",
    "    return [\n",
    "        BatchNormalization(input_shape=(4096,)),\n",
    "        Dropout(0.5),\n",
    "        Dense(2, activation='softmax')\n",
    "    ]"
   ]
  },
  {
   "cell_type": "code",
   "execution_count": null,
   "metadata": {
    "collapsed": true
   },
   "outputs": [],
   "source": [
    "def train_last_layer(i):\n",
    "    ll_layers = get_lastlayer_layers()\n",
    "    ll_model = Sequential(ll_layers)\n",
    "    ll_model.compile(optimizer=Adam(), loss = 'categorical_crossentropy', metrics=['accuracy'])\n",
    "    ll_model.optimizer.lr = 1e-5\n",
    "    ll_model.fit(last_layer_train_features, train_labels, validation_data=(last_layer_valid_features, valid_labels), nb_epoch=12)\n",
    "    ll_model.optimizer.lr = 1e-7\n",
    "    ll_model.fit(last_layer_train_features, train_labels, validation_data=(last_layer_valid_features, valid_labels), nb_epoch=1)\n",
    "    ll_model.save_weights(models_path+'last_layer_bn' + i + '.h5')\n",
    "    \n",
    "    vgg = Vgg16()\n",
    "    model = vgg.model\n",
    "    model.pop(); model.pop(); model.pop()\n",
    "    for layer in model.layers: layer.trainable=False\n",
    "    model.compile(optimizer=Adam(), loss='categorical_crossentropy', metrics=['accuracy'])\n",
    "    \n",
    "    lastlayer_layers = get_lastlayer_layers()\n",
    "    for layer in lastlayer_layers: model.add(layer)\n",
    "    for l1,l2 in zip(ll_model.layers, model.layers[-3:]):\n",
    "        l2.set_weights(l1.get_weights())\n",
    "    model.compile(optimizer=Adam(), loss='categorical_crossentropy', metrics=['accuracy'])\n",
    "    model.save_weights(models_path + 'bn' + i + '.h5')\n",
    "    return model"
   ]
  },
  {
   "cell_type": "code",
   "execution_count": null,
   "metadata": {
    "collapsed": true
   },
   "outputs": [],
   "source": [
    "def train_dense_layers(i, model):\n",
    "    conv_model, fc_layers, last_conv_idx = get_conv_model(model)\n",
    "    conv_shape = conv_model.output_shape[1:]\n",
    "    fc_model = Sequential(get_fc_layers(0.5, conv_shape))\n",
    "    for l1, l2 in zip(fc_model.layers, fc_layers):\n",
    "        weights = l2.get_weights()\n",
    "        l1.set_weights(weights)\n",
    "    fc_model.compile(optimizer=Adam(1e-5), loss='categorical_crossentropy', metrics=['accuracy'])\n",
    "    fc_model.fit(train_features, train_labels, nb_epoch=2, batch_size=batch_size,\n",
    "                valudation_data = (validation_features, validation_labels))\n",
    "    generator = image.ImageDataGenerator(rotation_range=10, width_shift_range=0.05,\n",
    "                                        width_zoom_range=0.05, zoom_range=0.05,\n",
    "                                        channel_shift_range=10, height_shift_range=0.05,\n",
    "                                        shear_range=0.05, horizontal_flip=True)\n",
    "    train_batches = generator.flow(train_data, train_labels, batch_size=batch_size)\n",
    "    valid_batches = image.ImageDataGenerator().flow(valid_data, valid_labels, shuffle=False,\n",
    "                                                   batch_size=batch_size)\n",
    "    \n",
    "    for layer in conv_model.layers: layer.trainable=False\n",
    "    for layer in get_fc_layers(0.5, conv_shape): conv_model.add(layer)\n",
    "    for l1,l2 in zip(conv_model.layers[last_conv_idx+1:], fc_model.layers):\n",
    "        l1.set_weights(l2.get_weights())\n",
    "    \n",
    "    conv_model.compile(optimizer=Adam(1e-5), loss='categorical_crossentropy',\n",
    "                      metrics=['accuracy'])\n",
    "    conv_model.save_weights(models_path+'no_dropout_bn'+i+'.h5')\n",
    "    conv_model.fit_generator(train_batches, samples_per_epoch=train_batches.N, nb_epoch=1,\n",
    "                            validation_data=valid_batches, nb_val_samples=valid_batches.N)\n",
    "    for layer in conv_model.layers[16:]: layer.trainable=True\n",
    "    conv_model.fit_generator(train_batches, samples_per_epoch=train_batches.N, nb_epoch=8,\n",
    "                            validation_data=valid_batches, nb_val_samples=valid_batches.N)\n",
    "    \n",
    "    conv_model.optimizer.lr=1e-7\n",
    "    conv_model.fit_generator(train_batches, samples_per_epoch=train_batches.N, nb_epoch=10,\n",
    "                            validation_data=valid_batches, nb_val_samples=valid_batches.N)\n",
    "    conv_model.save_weights(models_path + 'augementation' + i + '.h5')"
   ]
  },
  {
   "cell_type": "code",
   "execution_count": null,
   "metadata": {
    "collapsed": true
   },
   "outputs": [],
   "source": [
    "for i in range(5):\n",
    "    i = str(i)\n",
    "    model = train_last_layer(i)\n",
    "    train_dense_layers(i, model)"
   ]
  }
 ],
 "metadata": {
  "kernelspec": {
   "display_name": "Python 2",
   "language": "python",
   "name": "python2"
  },
  "language_info": {
   "codemirror_mode": {
    "name": "ipython",
    "version": 2
   },
   "file_extension": ".py",
   "mimetype": "text/x-python",
   "name": "python",
   "nbconvert_exporter": "python",
   "pygments_lexer": "ipython2",
   "version": "2.7.13"
  }
 },
 "nbformat": 4,
 "nbformat_minor": 2
}
